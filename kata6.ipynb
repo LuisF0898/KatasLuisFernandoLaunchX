{
 "cells": [
  {
   "cell_type": "code",
   "execution_count": null,
   "metadata": {},
   "outputs": [],
   "source": [
    "planetas= ['marte','tierra','jupiter', 'venus', ' saturno', 'neptuno','mercurio']\n",
    "planetas.append('pluton')\n",
    "print(planetas[-1],'es el ultimo')"
   ]
  },
  {
   "cell_type": "code",
   "execution_count": null,
   "metadata": {},
   "outputs": [],
   "source": [
    "planetas = ['Mercury', 'Venus', 'Earth', 'Mars', 'Jupiter', 'Saturn', 'Neptune']\n",
    "nombre = input(\"ingrese un nombre \")\n",
    "planetaId = planetas.index(nombre)\n",
    "print('mas cercano al sol' + nombre)\n",
    "print(planetas[0:planetaId])\n",
    "\n",
    "print('mas lejos al sol' + nombre)\n",
    "print(planetas[planetaId+ 1:])"
   ]
  }
 ],
 "metadata": {
  "language_info": {
   "name": "python"
  },
  "orig_nbformat": 4
 },
 "nbformat": 4,
 "nbformat_minor": 2
}
