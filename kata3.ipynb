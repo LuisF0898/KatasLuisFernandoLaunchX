{
 "cells": [
  {
   "cell_type": "markdown",
   "metadata": {},
   "source": [
    "# Añadir el código necesario para crear una variable que guarde la velocidad del asteroide.\n",
    "# Escribe una expresión de prueba para calcular si necesita una advertencia.\n",
    "# Agregue las instrucciones que se ejecutarán si la expresión de prueba es true o false."
   ]
  },
  {
   "cell_type": "code",
   "execution_count": 2,
   "metadata": {},
   "outputs": [
    {
     "name": "stdout",
     "output_type": "stream",
     "text": [
      "Peligro\n"
     ]
    }
   ],
   "source": [
    "a=49\n",
    "if a>25:\n",
    "    print(\"Peligro\")\n",
    "else:\n",
    "    print(\"Todo en Orden.\")"
   ]
  },
  {
   "cell_type": "markdown",
   "metadata": {},
   "source": [
    "# Agrega el código para crear una variable para un asteroide que viaja a 19 km/s\n",
    "# Escribe varias expresiones de prueba para determinar si puedes ver el rayo de luz desde la tierra\n",
    "# Agrega las instrucciones que se ejecutarán si las expresiones de prueba son True o False"
   ]
  },
  {
   "cell_type": "code",
   "execution_count": 5,
   "metadata": {},
   "outputs": [
    {
     "name": "stdout",
     "output_type": "stream",
     "text": [
      "hay rayo\n"
     ]
    }
   ],
   "source": [
    "asteroide= 19\n",
    "if asteroide>=20:\n",
    "    print(\"hay rayo\")\n",
    "else:\n",
    "    print(\"no hay rayo\")"
   ]
  },
  {
   "cell_type": "code",
   "execution_count": 8,
   "metadata": {},
   "outputs": [
    {
     "name": "stdout",
     "output_type": "stream",
     "text": [
      "Peligrooo\n"
     ]
    }
   ],
   "source": [
    "velocidad=27\n",
    "tamano= 40\n",
    "if velocidad >25 and tamano >25:\n",
    "    print(\"Peligrooo\")\n",
    "elif velocidad>=20:\n",
    "    print(\"hay rayo\")\n",
    "else:\n",
    "    print(\"no hay nada nuevo\")"
   ]
  }
 ],
 "metadata": {
  "interpreter": {
   "hash": "fc5ebc116b1300e2aa38ba85032ab270bd126c9f4bcdb1674f1a0c2b19df362f"
  },
  "kernelspec": {
   "display_name": "Python 3.9.2 64-bit",
   "language": "python",
   "name": "python3"
  },
  "language_info": {
   "codemirror_mode": {
    "name": "ipython",
    "version": 3
   },
   "file_extension": ".py",
   "mimetype": "text/x-python",
   "name": "python",
   "nbconvert_exporter": "python",
   "pygments_lexer": "ipython3",
   "version": "3.9.2"
  },
  "orig_nbformat": 4
 },
 "nbformat": 4,
 "nbformat_minor": 2
}
