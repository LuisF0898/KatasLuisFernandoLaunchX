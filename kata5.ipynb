{
 "cells": [
  {
   "cell_type": "code",
   "execution_count": 8,
   "metadata": {},
   "outputs": [
    {
     "name": "stdout",
     "output_type": "stream",
     "text": [
      "628949330\n",
      "390577533.93\n"
     ]
    }
   ],
   "source": [
    "tierra = 149597870\n",
    "jupiter = 778547200\n",
    "resta= jupiter-tierra\n",
    "print(resta)\n",
    "result= resta * 0.621\n",
    "print(result)"
   ]
  },
  {
   "cell_type": "code",
   "execution_count": null,
   "metadata": {},
   "outputs": [],
   "source": [
    "primerPlaneta = input(\"ingrese los datos del primer planeta\")\n",
    "segundoPlaneta = input(\"ingrese los datos del segunda planeta\")\n",
    "intpri= int(primerPlaneta)\n",
    "intseg= int(segundoPlaneta)\n",
    "\n",
    "resta= primerPlaneta- segundoPlaneta\n",
    "result= resta *0.621\n",
    "\n",
    "print(abs(result))"
   ]
  }
 ],
 "metadata": {
  "interpreter": {
   "hash": "fc5ebc116b1300e2aa38ba85032ab270bd126c9f4bcdb1674f1a0c2b19df362f"
  },
  "kernelspec": {
   "display_name": "Python 3.9.2 64-bit",
   "language": "python",
   "name": "python3"
  },
  "language_info": {
   "codemirror_mode": {
    "name": "ipython",
    "version": 3
   },
   "file_extension": ".py",
   "mimetype": "text/x-python",
   "name": "python",
   "nbconvert_exporter": "python",
   "pygments_lexer": "ipython3",
   "version": "3.9.2"
  },
  "orig_nbformat": 4
 },
 "nbformat": 4,
 "nbformat_minor": 2
}
